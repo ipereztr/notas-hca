{
 "cells": [
  {
   "cell_type": "code",
   "execution_count": 1,
   "id": "c5f08971",
   "metadata": {},
   "outputs": [],
   "source": [
    "#listas y duplas"
   ]
  },
  {
   "cell_type": "code",
   "execution_count": null,
   "id": "7abf7bec",
   "metadata": {},
   "outputs": [],
   "source": []
  },
  {
   "cell_type": "code",
   "execution_count": 4,
   "id": "656c57db",
   "metadata": {},
   "outputs": [],
   "source": [
    "#el contenido de las listas se empieza a contar con órden 0,1,...,n\n",
    "lstA=[1,5,10]\n",
    "tplA=[1,5,10]"
   ]
  },
  {
   "cell_type": "code",
   "execution_count": 5,
   "id": "0dc62fc4",
   "metadata": {},
   "outputs": [
    {
     "name": "stdout",
     "output_type": "stream",
     "text": [
      "[1, 5, 10]\n",
      "<class 'list'>\n",
      "[1, 5, 10]\n",
      "<class 'list'>\n"
     ]
    }
   ],
   "source": [
    "print(lstA)\n",
    "print(type(lstA))\n",
    "print(tplA)\n",
    "print(type(tplA))"
   ]
  },
  {
   "cell_type": "code",
   "execution_count": 7,
   "id": "2500f81a",
   "metadata": {},
   "outputs": [
    {
     "name": "stdout",
     "output_type": "stream",
     "text": [
      "5\n",
      "10\n"
     ]
    }
   ],
   "source": [
    "print(tplA[1])\n",
    "print(lstA[2])"
   ]
  },
  {
   "cell_type": "code",
   "execution_count": 8,
   "id": "4d699fdf",
   "metadata": {},
   "outputs": [
    {
     "data": {
      "text/plain": [
       "[1, 5, 222]"
      ]
     },
     "execution_count": 8,
     "metadata": {},
     "output_type": "execute_result"
    }
   ],
   "source": [
    "#son mublaes entonces le puedo cambiar su contenido\n",
    "lstA[2]=222\n",
    "lstA"
   ]
  },
  {
   "cell_type": "code",
   "execution_count": 9,
   "id": "c2a2a191",
   "metadata": {},
   "outputs": [
    {
     "name": "stdout",
     "output_type": "stream",
     "text": [
      "1\n"
     ]
    }
   ],
   "source": [
    "print(lstA[0])"
   ]
  },
  {
   "cell_type": "code",
   "execution_count": 10,
   "id": "d008444c",
   "metadata": {
    "scrolled": true
   },
   "outputs": [
    {
     "name": "stdout",
     "output_type": "stream",
     "text": [
      "('hola', 10, 20.99, True, [1, 5, 222], [1, 5, 10])\n",
      "('hola', 10, 20.99, True, [1, 5, 222], [1, 5, 10])\n"
     ]
    }
   ],
   "source": [
    "#se poner una lista como dato dentro de otra (ej F(F(x)))\n",
    "tplB=('hola', 10, 20.99, True, lstA, tplA)\n",
    "lstB=('hola', 10, 20.99, True, lstA, tplA)\n",
    "print(tplB)\n",
    "print(lstB)"
   ]
  },
  {
   "cell_type": "code",
   "execution_count": null,
   "id": "b3229d4c",
   "metadata": {},
   "outputs": [],
   "source": [
    "###más sobre listas"
   ]
  },
  {
   "cell_type": "code",
   "execution_count": 2,
   "id": "9035670d",
   "metadata": {},
   "outputs": [
    {
     "data": {
      "text/plain": [
       "[4, 9, 14, 19, 24, 29, 34, 39, 44, 49, 54, 59, 64, 69, 74, 79, 84, 89, 94, 99]"
      ]
     },
     "execution_count": 2,
     "metadata": {},
     "output_type": "execute_result"
    }
   ],
   "source": [
    "lstX=list(range(4,100,5))\n",
    "lstX"
   ]
  },
  {
   "cell_type": "code",
   "execution_count": 4,
   "id": "9dc3c23f",
   "metadata": {},
   "outputs": [
    {
     "data": {
      "text/plain": [
       "(4, 9, 14, 19, 24, 29, 34, 39, 44, 49, 54, 59, 64, 69, 74, 79, 84, 89, 94, 99)"
      ]
     },
     "execution_count": 4,
     "metadata": {},
     "output_type": "execute_result"
    }
   ],
   "source": [
    "tplX=tuple(range(4,100,5))\n",
    "tplX\n",
    "##ojo: la tupla sale en paréntesis para distinguir, porque las tuplas no son mutables después de que se establecen,\n",
    "##mientras que las listas sí"
   ]
  },
  {
   "cell_type": "code",
   "execution_count": 6,
   "id": "94f2f8f8",
   "metadata": {},
   "outputs": [],
   "source": [
    "lstY=[5,1,3,5,1,7,31,-5]"
   ]
  },
  {
   "cell_type": "code",
   "execution_count": 7,
   "id": "bc66c68a",
   "metadata": {},
   "outputs": [
    {
     "name": "stdout",
     "output_type": "stream",
     "text": [
      "[-5, 1, 1, 3, 5, 5, 7, 31]\n"
     ]
    },
    {
     "data": {
      "text/plain": [
       "[5, 1, 3, 5, 1, 7, 31, -5]"
      ]
     },
     "execution_count": 7,
     "metadata": {},
     "output_type": "execute_result"
    }
   ],
   "source": [
    "print(sorted(lstY)) \n",
    "#se ordena la lista, pero es como una copia. no modifica la lista\n",
    "lstY"
   ]
  },
  {
   "cell_type": "code",
   "execution_count": 8,
   "id": "b8d2380b",
   "metadata": {},
   "outputs": [
    {
     "data": {
      "text/plain": [
       "[-5, 1, 1, 3, 5, 5, 7, 31]"
      ]
     },
     "execution_count": 8,
     "metadata": {},
     "output_type": "execute_result"
    }
   ],
   "source": [
    "lstY.sort()\n",
    "lstY\n",
    "#así se modifica"
   ]
  },
  {
   "cell_type": "code",
   "execution_count": 11,
   "id": "285845c5",
   "metadata": {},
   "outputs": [
    {
     "data": {
      "text/plain": [
       "[-5, 1, 1, 3, 5, 5, 7, 31, 100, 100, 100]"
      ]
     },
     "execution_count": 11,
     "metadata": {},
     "output_type": "execute_result"
    }
   ],
   "source": [
    "lstY.insert(2,100)\n",
    "lstY.sort()\n",
    "lstY\n",
    "##metió varios 100 porque corrí el código múltiples veces"
   ]
  },
  {
   "cell_type": "code",
   "execution_count": 12,
   "id": "163156dd",
   "metadata": {},
   "outputs": [
    {
     "data": {
      "text/plain": [
       "[100, 100, 100, 31, 7, 5, 5, 3, 1, 1, -5]"
      ]
     },
     "execution_count": 12,
     "metadata": {},
     "output_type": "execute_result"
    }
   ],
   "source": [
    "lstY.sort(reverse=True)\n",
    "lstY"
   ]
  },
  {
   "cell_type": "code",
   "execution_count": 13,
   "id": "e235ce50",
   "metadata": {},
   "outputs": [
    {
     "name": "stdout",
     "output_type": "stream",
     "text": [
      "{2, 4, 6, 8, 10, 12, 14, 16, 18, 20, 22, 24, 26, 28, 30}\n",
      "{3, 6, 9, 12, 15, 18, 21, 24, 27, 30}\n",
      "{5, 10, 15, 20, 25, 30}\n"
     ]
    }
   ],
   "source": [
    "set2=set(range(2,31,2))\n",
    "set3=set(range(3,31,3))\n",
    "set4=set(range(5,31,5))\n",
    "print(set2)\n",
    "print(set3)\n",
    "print(set4)"
   ]
  },
  {
   "cell_type": "code",
   "execution_count": 15,
   "id": "d0ff4ad3",
   "metadata": {},
   "outputs": [
    {
     "data": {
      "text/plain": [
       "{15, 30}"
      ]
     },
     "execution_count": 15,
     "metadata": {},
     "output_type": "execute_result"
    }
   ],
   "source": [
    "set3 & set4 #intersección"
   ]
  },
  {
   "cell_type": "code",
   "execution_count": 16,
   "id": "73da369f",
   "metadata": {},
   "outputs": [
    {
     "data": {
      "text/plain": [
       "{3, 5, 6, 9, 10, 12, 15, 18, 20, 21, 24, 25, 27, 30}"
      ]
     },
     "execution_count": 16,
     "metadata": {},
     "output_type": "execute_result"
    }
   ],
   "source": [
    "set3|set4 #unión"
   ]
  },
  {
   "cell_type": "code",
   "execution_count": 17,
   "id": "3904eefd",
   "metadata": {},
   "outputs": [
    {
     "data": {
      "text/plain": [
       "{3, 6, 9, 12, 18, 21, 24, 27}"
      ]
     },
     "execution_count": 17,
     "metadata": {},
     "output_type": "execute_result"
    }
   ],
   "source": [
    "set3-set4 #diferencia: set 3 menos TODO lo que tiene el set 4"
   ]
  },
  {
   "cell_type": "code",
   "execution_count": 19,
   "id": "53186720",
   "metadata": {},
   "outputs": [
    {
     "data": {
      "text/plain": [
       "{3, 5, 6, 9, 10, 12, 18, 20, 21, 24, 25, 27}"
      ]
     },
     "execution_count": 19,
     "metadata": {},
     "output_type": "execute_result"
    }
   ],
   "source": [
    "set3 ^ set4 #diferencia simétrica: set 3 menos la intersección con el set 4"
   ]
  },
  {
   "cell_type": "code",
   "execution_count": 21,
   "id": "1875ab70",
   "metadata": {},
   "outputs": [
    {
     "data": {
      "text/plain": [
       "{30}"
      ]
     },
     "execution_count": 21,
     "metadata": {},
     "output_type": "execute_result"
    }
   ],
   "source": [
    "#figura a:\n",
    "set2&set3&set4"
   ]
  },
  {
   "cell_type": "code",
   "execution_count": 24,
   "id": "3a976e29",
   "metadata": {},
   "outputs": [
    {
     "data": {
      "text/plain": [
       "{6, 10, 12, 15, 18, 20, 24, 30}"
      ]
     },
     "execution_count": 24,
     "metadata": {},
     "output_type": "execute_result"
    }
   ],
   "source": [
    "#figura b:\n",
    "(set2&set3)|(set3&set4)|(set2&set4)-(set2&set3&set4)"
   ]
  },
  {
   "cell_type": "code",
   "execution_count": 20,
   "id": "02af4372",
   "metadata": {},
   "outputs": [
    {
     "data": {
      "text/plain": [
       "{2,\n",
       " 3,\n",
       " 4,\n",
       " 5,\n",
       " 6,\n",
       " 8,\n",
       " 9,\n",
       " 10,\n",
       " 12,\n",
       " 14,\n",
       " 15,\n",
       " 16,\n",
       " 18,\n",
       " 20,\n",
       " 21,\n",
       " 22,\n",
       " 24,\n",
       " 25,\n",
       " 26,\n",
       " 27,\n",
       " 28,\n",
       " 30}"
      ]
     },
     "execution_count": 20,
     "metadata": {},
     "output_type": "execute_result"
    }
   ],
   "source": [
    "#figura e:\n",
    "set3|set4|set2"
   ]
  },
  {
   "cell_type": "code",
   "execution_count": 25,
   "id": "f9766d51",
   "metadata": {},
   "outputs": [
    {
     "data": {
      "text/plain": [
       "{6, 10, 12, 15, 18, 20, 24, 30}"
      ]
     },
     "execution_count": 25,
     "metadata": {},
     "output_type": "execute_result"
    }
   ],
   "source": [
    "#figurad\n",
    "(set2&set3)|(set3&set4)|(set2&set4)"
   ]
  },
  {
   "cell_type": "code",
   "execution_count": null,
   "id": "23786239",
   "metadata": {},
   "outputs": [],
   "source": []
  }
 ],
 "metadata": {
  "kernelspec": {
   "display_name": "Python 3 (ipykernel)",
   "language": "python",
   "name": "python3"
  },
  "language_info": {
   "codemirror_mode": {
    "name": "ipython",
    "version": 3
   },
   "file_extension": ".py",
   "mimetype": "text/x-python",
   "name": "python",
   "nbconvert_exporter": "python",
   "pygments_lexer": "ipython3",
   "version": "3.9.12"
  }
 },
 "nbformat": 4,
 "nbformat_minor": 5
}
