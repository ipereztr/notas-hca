{
 "cells": [
  {
   "cell_type": "code",
   "execution_count": null,
   "id": "4243c87d",
   "metadata": {},
   "outputs": [],
   "source": [
    "#diccionarios"
   ]
  },
  {
   "cell_type": "code",
   "execution_count": 1,
   "id": "0c197da0",
   "metadata": {},
   "outputs": [],
   "source": [
    "dicA = {\n",
    "'Luis': 'Actuaria',\n",
    "'Irma':  'Finanzas',\n",
    "'Emilio':'Finanzas',\n",
    "'Paulina':'Economia',\n",
    "'Mariana': 'Ingenieria'\n",
    "}\n",
    "\n",
    "\n",
    "dicB = {\n",
    "'Luis': [6, 8, 9, 6, 9],\n",
    "'Irma': [10],\n",
    "'Emilio': [10, 6, 9],\n",
    "'Paulina': [10, 8, 10],\n",
    "'Mariana': [10, 8, 6]\n",
    "}"
   ]
  },
  {
   "cell_type": "code",
   "execution_count": 2,
   "id": "65bdfd69",
   "metadata": {},
   "outputs": [
    {
     "data": {
      "text/plain": [
       "'Actuaria'"
      ]
     },
     "execution_count": 2,
     "metadata": {},
     "output_type": "execute_result"
    }
   ],
   "source": [
    "dicA['Luis']"
   ]
  },
  {
   "cell_type": "code",
   "execution_count": 3,
   "id": "8a436c1d",
   "metadata": {},
   "outputs": [
    {
     "data": {
      "text/plain": [
       "[6, 8, 9, 6, 9]"
      ]
     },
     "execution_count": 3,
     "metadata": {},
     "output_type": "execute_result"
    }
   ],
   "source": [
    "dicB['Luis']"
   ]
  },
  {
   "cell_type": "code",
   "execution_count": 4,
   "id": "ed8c6000",
   "metadata": {},
   "outputs": [
    {
     "data": {
      "text/plain": [
       "dict_keys(['Luis', 'Irma', 'Emilio', 'Paulina', 'Mariana'])"
      ]
     },
     "execution_count": 4,
     "metadata": {},
     "output_type": "execute_result"
    }
   ],
   "source": [
    "dicA.keys()"
   ]
  },
  {
   "cell_type": "code",
   "execution_count": 5,
   "id": "efd5a1f1",
   "metadata": {},
   "outputs": [
    {
     "data": {
      "text/plain": [
       "dict_values(['Actuaria', 'Finanzas', 'Finanzas', 'Economia', 'Ingenieria'])"
      ]
     },
     "execution_count": 5,
     "metadata": {},
     "output_type": "execute_result"
    }
   ],
   "source": [
    "dicA.values()"
   ]
  },
  {
   "cell_type": "code",
   "execution_count": 6,
   "id": "2fe911b0",
   "metadata": {},
   "outputs": [
    {
     "name": "stdout",
     "output_type": "stream",
     "text": [
      "Luis\n",
      "Irma\n",
      "Emilio\n",
      "Paulina\n",
      "Mariana\n"
     ]
    }
   ],
   "source": [
    "for nombre in dicA.keys():\n",
    "    print(nombre)"
   ]
  },
  {
   "cell_type": "code",
   "execution_count": 7,
   "id": "d175bfc6",
   "metadata": {},
   "outputs": [
    {
     "name": "stdout",
     "output_type": "stream",
     "text": [
      "Luis Actuaria\n",
      "Irma Finanzas\n",
      "Emilio Finanzas\n",
      "Paulina Economia\n",
      "Mariana Ingenieria\n"
     ]
    }
   ],
   "source": [
    "for nombre in dicA.keys():\n",
    "    print(nombre, dicA[nombre])"
   ]
  },
  {
   "cell_type": "code",
   "execution_count": 9,
   "id": "3ba52c48",
   "metadata": {},
   "outputs": [
    {
     "name": "stdout",
     "output_type": "stream",
     "text": [
      "Ingenieria\n"
     ]
    }
   ],
   "source": [
    "print(dicA[nombre])"
   ]
  },
  {
   "cell_type": "code",
   "execution_count": 10,
   "id": "eeccc000",
   "metadata": {},
   "outputs": [
    {
     "name": "stdout",
     "output_type": "stream",
     "text": [
      "Luis [6, 8, 9, 6, 9]\n",
      "Irma [10]\n",
      "Emilio [10, 6, 9]\n",
      "Paulina [10, 8, 10]\n",
      "Mariana [10, 8, 6]\n"
     ]
    }
   ],
   "source": [
    "for nombre in dicB.keys():\n",
    "    print(nombre, dicB[nombre])"
   ]
  },
  {
   "cell_type": "code",
   "execution_count": 11,
   "id": "0e784917",
   "metadata": {},
   "outputs": [],
   "source": [
    "lstA=[6,7,8,9,9]"
   ]
  },
  {
   "cell_type": "code",
   "execution_count": 17,
   "id": "be3a30a5",
   "metadata": {},
   "outputs": [
    {
     "name": "stdout",
     "output_type": "stream",
     "text": [
      "39\n",
      "7.8\n"
     ]
    }
   ],
   "source": [
    "print(sum(lstA))\n",
    "print( st.mean(lstA))"
   ]
  },
  {
   "cell_type": "code",
   "execution_count": 16,
   "id": "5f2576bb",
   "metadata": {},
   "outputs": [],
   "source": [
    "import statistics as st\n",
    "#le asignamos un nickname a la lista para poder programar más fácilmente con ella"
   ]
  },
  {
   "cell_type": "code",
   "execution_count": 18,
   "id": "abe8d543",
   "metadata": {},
   "outputs": [
    {
     "name": "stdout",
     "output_type": "stream",
     "text": [
      "Luis 7.6\n",
      "Irma 10\n",
      "Emilio 8.333333333333334\n",
      "Paulina 9.333333333333334\n",
      "Mariana 8\n"
     ]
    }
   ],
   "source": [
    "for nombre in dicB.keys():\n",
    "    print(nombre, st.mean(dicB[nombre]))"
   ]
  },
  {
   "cell_type": "code",
   "execution_count": 21,
   "id": "e3fc643e",
   "metadata": {},
   "outputs": [
    {
     "name": "stdout",
     "output_type": "stream",
     "text": [
      "['Luis', 'Irma', 'Emilio', 'Paulina', 'Mariana']\n",
      "Emilio\n"
     ]
    }
   ],
   "source": [
    "lstNom=[nombre for nombre in dicB.keys()]\n",
    "print(lstNom)\n",
    "print(lstNom[2])"
   ]
  },
  {
   "cell_type": "code",
   "execution_count": 22,
   "id": "daf5eb09",
   "metadata": {},
   "outputs": [
    {
     "name": "stdout",
     "output_type": "stream",
     "text": [
      "[[6, 8, 9, 6, 9], [10], [10, 6, 9], [10, 8, 10], [10, 8, 6]]\n",
      "[10, 6, 9]\n"
     ]
    }
   ],
   "source": [
    "lstCal=[dicB[nombre] for nombre in dicB.keys()]\n",
    "print(lstCal)\n",
    "print(lstCal[2])"
   ]
  },
  {
   "cell_type": "code",
   "execution_count": 24,
   "id": "9cab5527",
   "metadata": {},
   "outputs": [
    {
     "name": "stdout",
     "output_type": "stream",
     "text": [
      "[('Luis', 7.6), ('Irma', 10), ('Emilio', 8.333333333333334), ('Paulina', 9.333333333333334), ('Mariana', 8)]\n"
     ]
    }
   ],
   "source": [
    "lstProm=[(nombre, st.mean(dicB[nombre])) for nombre in dicB.keys()]\n",
    "print(lstProm)"
   ]
  },
  {
   "cell_type": "code",
   "execution_count": null,
   "id": "eddb1c60",
   "metadata": {},
   "outputs": [],
   "source": [
    "#quien tiene el promedio mayor"
   ]
  },
  {
   "cell_type": "code",
   "execution_count": 28,
   "id": "6250007d",
   "metadata": {},
   "outputs": [
    {
     "name": "stdout",
     "output_type": "stream",
     "text": [
      "10\n",
      "1\n"
     ]
    }
   ],
   "source": [
    "lstP=[st.mean(dicB[nombre]) for nombre in dicB.keys()]\n",
    "mayor=max(lstP)\n",
    "print(mayor)\n",
    "pos=lstP.index(mayor)\n",
    "print(pos)"
   ]
  },
  {
   "cell_type": "code",
   "execution_count": 29,
   "id": "b927e783",
   "metadata": {},
   "outputs": [
    {
     "data": {
      "text/plain": [
       "'Irma'"
      ]
     },
     "execution_count": 29,
     "metadata": {},
     "output_type": "execute_result"
    }
   ],
   "source": [
    "lstN=list(dicB.keys())\n",
    "lstN[pos]"
   ]
  },
  {
   "cell_type": "code",
   "execution_count": null,
   "id": "5cdad436",
   "metadata": {},
   "outputs": [],
   "source": []
  }
 ],
 "metadata": {
  "kernelspec": {
   "display_name": "Python 3 (ipykernel)",
   "language": "python",
   "name": "python3"
  },
  "language_info": {
   "codemirror_mode": {
    "name": "ipython",
    "version": 3
   },
   "file_extension": ".py",
   "mimetype": "text/x-python",
   "name": "python",
   "nbconvert_exporter": "python",
   "pygments_lexer": "ipython3",
   "version": "3.9.12"
  }
 },
 "nbformat": 4,
 "nbformat_minor": 5
}
